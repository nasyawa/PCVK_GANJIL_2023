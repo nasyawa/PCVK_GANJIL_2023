{
  "nbformat": 4,
  "nbformat_minor": 0,
  "metadata": {
    "colab": {
      "provenance": [],
      "authorship_tag": "ABX9TyN0YVjMK3tKCLL54C5IJ8iv",
      "include_colab_link": true
    },
    "kernelspec": {
      "name": "python3",
      "display_name": "Python 3"
    },
    "language_info": {
      "name": "python"
    }
  },
  "cells": [
    {
      "cell_type": "markdown",
      "metadata": {
        "id": "view-in-github",
        "colab_type": "text"
      },
      "source": [
        "<a href=\"https://colab.research.google.com/github/nasyawa/PCVK_GANJIL_2023/blob/main/Week5.ipynb\" target=\"_parent\"><img src=\"https://colab.research.google.com/assets/colab-badge.svg\" alt=\"Open In Colab\"/></a>"
      ]
    },
    {
      "cell_type": "markdown",
      "source": [
        "# PRAKTIKUM MODUL 5\n",
        "Operasi Aritmatika dan Logika - Gamma Correction,\n",
        "Image Depth, PSNR, Average Denoising, Image Masking"
      ],
      "metadata": {
        "id": "ZzZtob48MBnP"
      }
    },
    {
      "cell_type": "code",
      "execution_count": 1,
      "metadata": {
        "colab": {
          "base_uri": "https://localhost:8080/"
        },
        "id": "mEURQ7LULm-C",
        "outputId": "7b47a06f-8fa5-4649-9e26-ce397187aeda"
      },
      "outputs": [
        {
          "output_type": "stream",
          "name": "stdout",
          "text": [
            "Mounted at /content/drive\n"
          ]
        }
      ],
      "source": [
        "#Akses folder images pd GDrive\n",
        "from google.colab import drive\n",
        "drive.mount('/content/drive')"
      ]
    }
  ]
}